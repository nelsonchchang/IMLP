{
  "cells": [
    {
      "cell_type": "markdown",
      "metadata": {
        "id": "view-in-github",
        "colab_type": "text"
      },
      "source": [
        "<a href=\"https://colab.research.google.com/github/nelsonchchang/IMLP/blob/main/Unit02/2.1_NumPy%E5%92%8C%E9%99%A3%E5%88%97%E5%B0%8E%E5%90%91%E7%9A%84%E7%A8%8B%E5%BC%8F%E8%A8%AD%E8%A8%88.ipynb\" target=\"_parent\"><img src=\"https://colab.research.google.com/assets/colab-badge.svg\" alt=\"Open In Colab\"/></a>"
      ]
    },
    {
      "cell_type": "markdown",
      "metadata": {
        "id": "Pb7Sl0DpVFTx"
      },
      "source": [
        "# NumPy 和陣列導向的程式設計\n",
        "\n",
        "`NumPy` 可以說是 Python 中最最標準的科學計算、數據分析套件。也因為 `NumPy` 的出現, 讓 Python 有了非常好的數據分析基礎, 一直到現在成為數據分析覇主。"
      ]
    },
    {
      "cell_type": "code",
      "execution_count": 6,
      "metadata": {
        "id": "llavHsRjVFTz"
      },
      "outputs": [],
      "source": [
        "import numpy as np"
      ]
    },
    {
      "cell_type": "markdown",
      "metadata": {
        "id": "AO4WlXapVFTz"
      },
      "source": [
        "## 1. 陣列導向 101\n",
        "\n",
        "科學計算一個很核心的概念叫 \"array oriented\" 的寫法。Array 是 `numpy` 標準的資料結構, 和 list 很像, 但就差了那麼一點點。而這一點點讓我們在計算上是無比的方便。"
      ]
    },
    {
      "cell_type": "markdown",
      "metadata": {
        "id": "CslkIiYIVFTz"
      },
      "source": [
        "### 【暖身】 計算平均\n",
        "\n",
        "某位同學期中考各科成績如下, 請幫他計算成績。\n",
        "\n",
        "    grades = [77, 85, 56, 90, 66]\n",
        "    \n",
        "請計算平均。"
      ]
    },
    {
      "cell_type": "code",
      "execution_count": 5,
      "metadata": {
        "id": "qKxYkrmLVFTz",
        "outputId": "be438cca-82bc-4a8d-9157-8f0ad1cf02ec",
        "colab": {
          "base_uri": "https://localhost:8080/"
        }
      },
      "outputs": [
        {
          "output_type": "stream",
          "name": "stdout",
          "text": [
            "average = 74.80, sum = 374\n"
          ]
        }
      ],
      "source": [
        "sum = 0\n",
        "grades = [77, 85, 56, 90, 66]\n",
        "for i in grades:\n",
        "  sum += i\n",
        "print(\"average = {0:.2f}, sum = {1}\".format((sum / len(grades)), sum))"
      ]
    },
    {
      "cell_type": "markdown",
      "metadata": {
        "id": "rHpGvG7kVFT0"
      },
      "source": [
        "### 【示範】陣列導向"
      ]
    },
    {
      "cell_type": "code",
      "execution_count": 7,
      "metadata": {
        "id": "de5OGMiCVFT0",
        "outputId": "8b0dec2c-f5de-481d-d32a-6b44e2c2e245",
        "colab": {
          "base_uri": "https://localhost:8080/"
        }
      },
      "outputs": [
        {
          "output_type": "execute_result",
          "data": {
            "text/plain": [
              "74.8"
            ]
          },
          "metadata": {},
          "execution_count": 7
        }
      ],
      "source": [
        "grades = [77, 85, 56, 90, 66]\n",
        "arr = np.array(grades)\n",
        "arr.mean()"
      ]
    },
    {
      "cell_type": "markdown",
      "metadata": {
        "id": "_Xk5uCU0VFT0"
      },
      "source": [
        "最大值"
      ]
    },
    {
      "cell_type": "code",
      "execution_count": 10,
      "metadata": {
        "id": "A9E1B68GVFT0",
        "outputId": "c94d0313-0ca5-42cc-a205-c87e603e6291",
        "colab": {
          "base_uri": "https://localhost:8080/"
        }
      },
      "outputs": [
        {
          "output_type": "execute_result",
          "data": {
            "text/plain": [
              "90"
            ]
          },
          "metadata": {},
          "execution_count": 10
        }
      ],
      "source": [
        "arr.max()"
      ]
    },
    {
      "cell_type": "markdown",
      "metadata": {
        "id": "5WSd-ofqVFT0"
      },
      "source": [
        "標準差"
      ]
    },
    {
      "cell_type": "code",
      "execution_count": 11,
      "metadata": {
        "id": "SX0wOpUCVFT0",
        "outputId": "06778613-fdb9-49ee-ba76-ee92d8cb8082",
        "colab": {
          "base_uri": "https://localhost:8080/"
        }
      },
      "outputs": [
        {
          "output_type": "execute_result",
          "data": {
            "text/plain": [
              "12.416118556135006"
            ]
          },
          "metadata": {},
          "execution_count": 11
        }
      ],
      "source": [
        "arr.std()"
      ]
    },
    {
      "cell_type": "markdown",
      "metadata": {
        "id": "e_AIqy3FVFT1"
      },
      "source": [
        "### 【暖身】 換算匯率\n",
        "\n",
        "假設今天我想查查號稱 Pentax 三公主的 31mm, 43mm, 77mm 三隻 limited 鏡頭在美國賣多少。於是我去 B&H 查了他們的價格分別是:\n",
        "\n",
        "    prices = [1096.95, 596.95, 896.95]\n",
        "    \n",
        "我又查了 Google 匯率 1 美金為 31.71 元。請把三支鏡頭的價格換算為台幣。"
      ]
    },
    {
      "cell_type": "code",
      "execution_count": 17,
      "metadata": {
        "collapsed": true,
        "id": "LUQB3hTvVFT1",
        "outputId": "4caa3b96-5a06-4703-88f3-bfe8e205c59e",
        "colab": {
          "base_uri": "https://localhost:8080/"
        }
      },
      "outputs": [
        {
          "output_type": "execute_result",
          "data": {
            "text/plain": [
              "[34784.2845, 18929.2845, 28442.2845]"
            ]
          },
          "metadata": {},
          "execution_count": 17
        }
      ],
      "source": [
        "prices = [1096.95, 596.95, 896.95]\n",
        "usdtotwd = 31.71\n",
        "idx = 0\n",
        "for i in prices:\n",
        "  prices[idx] *= usdtotwd\n",
        "  idx += 1\n",
        "prices"
      ]
    },
    {
      "cell_type": "markdown",
      "metadata": {
        "id": "VHpeBraWVFT1"
      },
      "source": [
        "先不管這實在有夠醜的數字, 我們要記得在科學計算中:\n",
        "\n",
        "### 儘可能不要使用迴圈\n",
        "\n",
        "這可能嗎?"
      ]
    },
    {
      "cell_type": "markdown",
      "metadata": {
        "id": "iOMSf0cdVFT1"
      },
      "source": [
        "### 【示範】陣列換算匯率"
      ]
    },
    {
      "cell_type": "code",
      "execution_count": 13,
      "metadata": {
        "id": "N30T3DWbVFT2",
        "outputId": "b89180d3-e506-4737-eb58-a15e310e6b62",
        "colab": {
          "base_uri": "https://localhost:8080/"
        }
      },
      "outputs": [
        {
          "output_type": "execute_result",
          "data": {
            "text/plain": [
              "array([34784.2845, 18929.2845, 28442.2845])"
            ]
          },
          "metadata": {},
          "execution_count": 13
        }
      ],
      "source": [
        "prices = [1096.95, 596.95, 896.95]\n",
        "prices = np.array(prices)\n",
        "usdtotwd = 31.71\n",
        "prices * usdtotwd"
      ]
    },
    {
      "cell_type": "markdown",
      "metadata": {
        "id": "Jy4Mu5FkVFT2"
      },
      "source": [
        "哦哦, 傑克, 這太神奇了!"
      ]
    },
    {
      "cell_type": "markdown",
      "metadata": {
        "id": "MO-BTkLuVFT2"
      },
      "source": [
        "## 2. 其實 array 還有很多功能\n",
        "\n",
        "### 【練習】 成績計算\n",
        "\n",
        "一位老師成績這樣算的:\n",
        "\n",
        "* 平時成績 20%\n",
        "* 期中考   35%\n",
        "* 期未考   45%\n",
        "\n",
        "有位同學\n",
        "\n",
        "* 平時成績 85 分\n",
        "* 期中 70 分\n",
        "* 期末 80 分\n",
        "\n",
        "這位同學的學期成績是多少?"
      ]
    },
    {
      "cell_type": "code",
      "execution_count": 18,
      "metadata": {
        "id": "4GkqfBTOVFT2"
      },
      "outputs": [],
      "source": [
        "grades = np.array([85,70,80])\n",
        "weights = np.array([0.2, 0.35, 0.45])"
      ]
    },
    {
      "cell_type": "markdown",
      "metadata": {
        "id": "4ZqMFkJ-VFT2"
      },
      "source": [
        "這還不是我們要的最終成績啊!"
      ]
    },
    {
      "cell_type": "code",
      "execution_count": 19,
      "metadata": {
        "id": "iYiNB4JfVFT2",
        "outputId": "96c26006-58b2-4a2f-fd8c-af7b68c98a50",
        "colab": {
          "base_uri": "https://localhost:8080/"
        }
      },
      "outputs": [
        {
          "output_type": "execute_result",
          "data": {
            "text/plain": [
              "array([17. , 24.5, 36. ])"
            ]
          },
          "metadata": {},
          "execution_count": 19
        }
      ],
      "source": [
        "grades * weights"
      ]
    },
    {
      "cell_type": "markdown",
      "metadata": {
        "id": "zZ8C3Qc3VFT2"
      },
      "source": [
        "### 【提示】 array 還有很多函數可以用\n",
        "\n",
        "可以先打入\n",
        "\n",
        "    weighted_grades.\n",
        "    \n",
        "先不要按 `enter` 或 `shift-enter`, 而是按 `tab`...\n"
      ]
    },
    {
      "cell_type": "code",
      "execution_count": 20,
      "metadata": {
        "id": "0Q1aiSEoVFT2",
        "outputId": "74a49a85-0038-4958-ab65-be620f0abcd6",
        "colab": {
          "base_uri": "https://localhost:8080/"
        }
      },
      "outputs": [
        {
          "output_type": "execute_result",
          "data": {
            "text/plain": [
              "77.5"
            ]
          },
          "metadata": {},
          "execution_count": 20
        }
      ],
      "source": [
        "weighted_grades = grades * weights\n",
        "weighted_grades.sum()"
      ]
    },
    {
      "cell_type": "markdown",
      "metadata": {
        "id": "aPyCgSs7VFT3"
      },
      "source": [
        "### 【技巧】 一行完成成績計算"
      ]
    },
    {
      "cell_type": "code",
      "execution_count": 21,
      "metadata": {
        "id": "08kaOXQRVFT3",
        "outputId": "f806b93b-c515-40d4-e90a-4c03b98084ed",
        "colab": {
          "base_uri": "https://localhost:8080/"
        }
      },
      "outputs": [
        {
          "output_type": "execute_result",
          "data": {
            "text/plain": [
              "77.5"
            ]
          },
          "metadata": {},
          "execution_count": 21
        }
      ],
      "source": [
        "np.dot(grades, weights)"
      ]
    },
    {
      "cell_type": "markdown",
      "metadata": {
        "id": "9bYzTxljVFT3"
      },
      "source": [
        "## 3. 重要的 array 大變身!\n",
        "\n",
        "我們在數據分析, 常常要改 array 的型式。"
      ]
    },
    {
      "cell_type": "markdown",
      "metadata": {
        "id": "mfjpfyOKVFT3"
      },
      "source": [
        "### 【練習】 一個 50 個數字的 array\n",
        "\n",
        "先想辦法、用亂數做出 50 個數字的 array, 叫做 A 好了。"
      ]
    },
    {
      "cell_type": "code",
      "execution_count": 30,
      "metadata": {
        "id": "hVZraEGIVFT3",
        "outputId": "951d206e-4e62-41b3-c54a-49bb5f6e7b70",
        "colab": {
          "base_uri": "https://localhost:8080/"
        }
      },
      "outputs": [
        {
          "output_type": "execute_result",
          "data": {
            "text/plain": [
              "array([0.52103657, 0.37008641, 0.84378168, 0.87225298, 0.31348827,\n",
              "       0.03688005, 0.87450111, 0.64384274, 0.15976312, 0.48793969,\n",
              "       0.93007983, 0.96021327, 0.63132561, 0.23592705, 0.72819393,\n",
              "       0.75099893, 0.63031126, 0.66296257, 0.44773778, 0.93669432,\n",
              "       0.1886136 , 0.37565581, 0.26236309, 0.08874443, 0.53665905,\n",
              "       0.26355933, 0.85754622, 0.38234433, 0.51714233, 0.3914271 ,\n",
              "       0.44959131, 0.72616752, 0.78561296, 0.72554723, 0.52818535,\n",
              "       0.67527875, 0.76458653, 0.81073682, 0.60285419, 0.24196356,\n",
              "       0.37138442, 0.68432423, 0.60653616, 0.22778853, 0.15751469,\n",
              "       0.82934183, 0.36238744, 0.35666765, 0.90950778, 0.57969127])"
            ]
          },
          "metadata": {},
          "execution_count": 30
        }
      ],
      "source": [
        "A = np.random.rand(50)\n",
        "A"
      ]
    },
    {
      "cell_type": "code",
      "source": [
        "A[0]"
      ],
      "metadata": {
        "id": "JGBgmX-5Su7b",
        "outputId": "247e16aa-5a95-4237-cb3c-586e60b2067b",
        "colab": {
          "base_uri": "https://localhost:8080/"
        }
      },
      "execution_count": 31,
      "outputs": [
        {
          "output_type": "execute_result",
          "data": {
            "text/plain": [
              "0.5210365737761112"
            ]
          },
          "metadata": {},
          "execution_count": 31
        }
      ]
    },
    {
      "cell_type": "markdown",
      "metadata": {
        "id": "LoO2VzoHVFT3"
      },
      "source": [
        "### 【技巧】 檢查 A 的 `shape`"
      ]
    },
    {
      "cell_type": "code",
      "execution_count": 32,
      "metadata": {
        "id": "I5jDG-NWVFT3",
        "outputId": "a6e3d8ea-53c7-49dd-af2f-f4f960dd2a70",
        "colab": {
          "base_uri": "https://localhost:8080/"
        }
      },
      "outputs": [
        {
          "output_type": "execute_result",
          "data": {
            "text/plain": [
              "(50,)"
            ]
          },
          "metadata": {},
          "execution_count": 32
        }
      ],
      "source": [
        "A.shape"
      ]
    },
    {
      "cell_type": "markdown",
      "metadata": {
        "id": "dRX6eUJ5VFT4"
      },
      "source": [
        "### 【技巧】 更改 A 的 shape"
      ]
    },
    {
      "cell_type": "code",
      "execution_count": 38,
      "metadata": {
        "id": "D1iK-wabVFT4",
        "outputId": "c4213570-f092-4136-b4cd-1fabc2be120d",
        "colab": {
          "base_uri": "https://localhost:8080/"
        }
      },
      "outputs": [
        {
          "output_type": "execute_result",
          "data": {
            "text/plain": [
              "0.5210365737761112"
            ]
          },
          "metadata": {},
          "execution_count": 38
        }
      ],
      "source": [
        "A.shape = (5, 10)\n",
        "A[0, 0]"
      ]
    },
    {
      "cell_type": "markdown",
      "metadata": {
        "id": "CPpQ-7PzVFT4"
      },
      "source": [
        "### 【技巧】 也可以用 `reshape`\n",
        "\n",
        "但要注意, reshape 並沒有改原來的陣列。"
      ]
    },
    {
      "cell_type": "code",
      "execution_count": 35,
      "metadata": {
        "id": "T1ddQKO4VFT4",
        "outputId": "f4102fee-dbdf-4c13-db61-fb67de825032",
        "colab": {
          "base_uri": "https://localhost:8080/"
        }
      },
      "outputs": [
        {
          "output_type": "execute_result",
          "data": {
            "text/plain": [
              "array([[0.52103657, 0.37008641, 0.84378168, 0.87225298, 0.31348827],\n",
              "       [0.03688005, 0.87450111, 0.64384274, 0.15976312, 0.48793969],\n",
              "       [0.93007983, 0.96021327, 0.63132561, 0.23592705, 0.72819393],\n",
              "       [0.75099893, 0.63031126, 0.66296257, 0.44773778, 0.93669432],\n",
              "       [0.1886136 , 0.37565581, 0.26236309, 0.08874443, 0.53665905],\n",
              "       [0.26355933, 0.85754622, 0.38234433, 0.51714233, 0.3914271 ],\n",
              "       [0.44959131, 0.72616752, 0.78561296, 0.72554723, 0.52818535],\n",
              "       [0.67527875, 0.76458653, 0.81073682, 0.60285419, 0.24196356],\n",
              "       [0.37138442, 0.68432423, 0.60653616, 0.22778853, 0.15751469],\n",
              "       [0.82934183, 0.36238744, 0.35666765, 0.90950778, 0.57969127]])"
            ]
          },
          "metadata": {},
          "execution_count": 35
        }
      ],
      "source": [
        "A.reshape(10, 5)"
      ]
    },
    {
      "cell_type": "markdown",
      "metadata": {
        "id": "vS_YWPOPVFT4"
      },
      "source": [
        "### 【技巧】 拉平 `ravel`\n",
        "\n",
        "雖然你想一想就知道可以用 `shape` 或 `reshape` 把多維陣列拉成一維。不過用 `ravel` 很潮。"
      ]
    },
    {
      "cell_type": "code",
      "execution_count": 39,
      "metadata": {
        "id": "WVQd-_QiVFT5",
        "outputId": "feba4379-7a9d-44a8-c42a-1a177c1eea13",
        "colab": {
          "base_uri": "https://localhost:8080/"
        }
      },
      "outputs": [
        {
          "output_type": "execute_result",
          "data": {
            "text/plain": [
              "array([0.52103657, 0.37008641, 0.84378168, 0.87225298, 0.31348827,\n",
              "       0.03688005, 0.87450111, 0.64384274, 0.15976312, 0.48793969,\n",
              "       0.93007983, 0.96021327, 0.63132561, 0.23592705, 0.72819393,\n",
              "       0.75099893, 0.63031126, 0.66296257, 0.44773778, 0.93669432,\n",
              "       0.1886136 , 0.37565581, 0.26236309, 0.08874443, 0.53665905,\n",
              "       0.26355933, 0.85754622, 0.38234433, 0.51714233, 0.3914271 ,\n",
              "       0.44959131, 0.72616752, 0.78561296, 0.72554723, 0.52818535,\n",
              "       0.67527875, 0.76458653, 0.81073682, 0.60285419, 0.24196356,\n",
              "       0.37138442, 0.68432423, 0.60653616, 0.22778853, 0.15751469,\n",
              "       0.82934183, 0.36238744, 0.35666765, 0.90950778, 0.57969127])"
            ]
          },
          "metadata": {},
          "execution_count": 39
        }
      ],
      "source": [
        "A.ravel()"
      ]
    },
    {
      "cell_type": "markdown",
      "metadata": {
        "id": "FhixK2wLVFT5"
      },
      "source": [
        "## 4. 快速 array 生成法"
      ]
    },
    {
      "cell_type": "markdown",
      "metadata": {
        "id": "aD9G2m5nVFT5"
      },
      "source": [
        "### 【技巧】 都是 0 的 array"
      ]
    },
    {
      "cell_type": "code",
      "execution_count": 42,
      "metadata": {
        "id": "lHuEtio2VFT5",
        "outputId": "80445c0b-3dac-41f0-cac3-e485d5b9ec56",
        "colab": {
          "base_uri": "https://localhost:8080/"
        }
      },
      "outputs": [
        {
          "output_type": "execute_result",
          "data": {
            "text/plain": [
              "array([[0., 0., 0., 0.],\n",
              "       [0., 0., 0., 0.],\n",
              "       [0., 0., 0., 0.]])"
            ]
          },
          "metadata": {},
          "execution_count": 42
        }
      ],
      "source": [
        "np.zeros(10)\n",
        "np.zeros((3,4))"
      ]
    },
    {
      "cell_type": "markdown",
      "metadata": {
        "id": "cIHzjtFoVFT5"
      },
      "source": [
        "### 【技巧】 都是 1 的 array"
      ]
    },
    {
      "cell_type": "code",
      "execution_count": 41,
      "metadata": {
        "id": "z23Y_8-KVFT5",
        "outputId": "63e30787-3c31-4468-922b-fdf58f6c3465",
        "colab": {
          "base_uri": "https://localhost:8080/"
        }
      },
      "outputs": [
        {
          "output_type": "execute_result",
          "data": {
            "text/plain": [
              "array([1., 1., 1., 1., 1., 1., 1., 1., 1., 1.])"
            ]
          },
          "metadata": {},
          "execution_count": 41
        }
      ],
      "source": [
        "np.ones(10)"
      ]
    },
    {
      "cell_type": "markdown",
      "metadata": {
        "id": "-SS6_YbrVFT6"
      },
      "source": [
        "### 【技巧】單位矩陣"
      ]
    },
    {
      "cell_type": "code",
      "execution_count": 4,
      "metadata": {
        "id": "pfIrhWsGVFT6",
        "outputId": "358dd0ab-f98f-4771-d9d4-153f8c72aece",
        "colab": {
          "base_uri": "https://localhost:8080/"
        }
      },
      "outputs": [
        {
          "output_type": "execute_result",
          "data": {
            "text/plain": [
              "array([[1., 0., 0., 0., 0.],\n",
              "       [0., 1., 0., 0., 0.],\n",
              "       [0., 0., 1., 0., 0.],\n",
              "       [0., 0., 0., 1., 0.],\n",
              "       [0., 0., 0., 0., 1.]])"
            ]
          },
          "metadata": {},
          "execution_count": 4
        }
      ],
      "source": [
        "np.eye(5)"
      ]
    },
    {
      "cell_type": "markdown",
      "metadata": {
        "id": "D4mURgTaVFT6"
      },
      "source": [
        "### 【技巧】給定範圍均勻生出 n 個點"
      ]
    },
    {
      "cell_type": "code",
      "execution_count": 8,
      "metadata": {
        "id": "ojU8CwCzVFT6",
        "outputId": "4b50d66f-a991-4cfa-fe55-a3c3b7025b07",
        "colab": {
          "base_uri": "https://localhost:8080/"
        }
      },
      "outputs": [
        {
          "output_type": "execute_result",
          "data": {
            "text/plain": [
              "array([ 0.        ,  0.1010101 ,  0.2020202 ,  0.3030303 ,  0.4040404 ,\n",
              "        0.50505051,  0.60606061,  0.70707071,  0.80808081,  0.90909091,\n",
              "        1.01010101,  1.11111111,  1.21212121,  1.31313131,  1.41414141,\n",
              "        1.51515152,  1.61616162,  1.71717172,  1.81818182,  1.91919192,\n",
              "        2.02020202,  2.12121212,  2.22222222,  2.32323232,  2.42424242,\n",
              "        2.52525253,  2.62626263,  2.72727273,  2.82828283,  2.92929293,\n",
              "        3.03030303,  3.13131313,  3.23232323,  3.33333333,  3.43434343,\n",
              "        3.53535354,  3.63636364,  3.73737374,  3.83838384,  3.93939394,\n",
              "        4.04040404,  4.14141414,  4.24242424,  4.34343434,  4.44444444,\n",
              "        4.54545455,  4.64646465,  4.74747475,  4.84848485,  4.94949495,\n",
              "        5.05050505,  5.15151515,  5.25252525,  5.35353535,  5.45454545,\n",
              "        5.55555556,  5.65656566,  5.75757576,  5.85858586,  5.95959596,\n",
              "        6.06060606,  6.16161616,  6.26262626,  6.36363636,  6.46464646,\n",
              "        6.56565657,  6.66666667,  6.76767677,  6.86868687,  6.96969697,\n",
              "        7.07070707,  7.17171717,  7.27272727,  7.37373737,  7.47474747,\n",
              "        7.57575758,  7.67676768,  7.77777778,  7.87878788,  7.97979798,\n",
              "        8.08080808,  8.18181818,  8.28282828,  8.38383838,  8.48484848,\n",
              "        8.58585859,  8.68686869,  8.78787879,  8.88888889,  8.98989899,\n",
              "        9.09090909,  9.19191919,  9.29292929,  9.39393939,  9.49494949,\n",
              "        9.5959596 ,  9.6969697 ,  9.7979798 ,  9.8989899 , 10.        ])"
            ]
          },
          "metadata": {},
          "execution_count": 8
        }
      ],
      "source": [
        "np.linspace(0,10,100)"
      ]
    },
    {
      "cell_type": "markdown",
      "metadata": {
        "id": "s-Jz2IoIVFT6"
      },
      "source": [
        "### 【技巧】`range` 的 array 版\n",
        "\n",
        "就是 `arange`。"
      ]
    },
    {
      "cell_type": "code",
      "execution_count": 10,
      "metadata": {
        "id": "6nY0DJi4VFT7",
        "outputId": "2b6fff4e-ba3f-46e0-e0b4-a09b087c9d1d",
        "colab": {
          "base_uri": "https://localhost:8080/"
        }
      },
      "outputs": [
        {
          "output_type": "execute_result",
          "data": {
            "text/plain": [
              "array([1. , 1.2, 1.4, 1.6, 1.8, 2. , 2.2, 2.4, 2.6, 2.8, 3. , 3.2, 3.4,\n",
              "       3.6, 3.8, 4. , 4.2, 4.4, 4.6, 4.8, 5. , 5.2, 5.4, 5.6, 5.8, 6. ,\n",
              "       6.2, 6.4, 6.6, 6.8, 7. , 7.2, 7.4, 7.6, 7.8, 8. , 8.2, 8.4, 8.6,\n",
              "       8.8, 9. , 9.2, 9.4, 9.6, 9.8])"
            ]
          },
          "metadata": {},
          "execution_count": 10
        }
      ],
      "source": [
        "np.arange(1,10,0.2)"
      ]
    },
    {
      "cell_type": "markdown",
      "metadata": {
        "id": "h_ERALSkVFT7"
      },
      "source": [
        "## 5. 超重要 `axis` 觀念\n",
        "\n",
        "初學 `numpy` 很多人有點弄不清楚 `axis` 概念。其實掌握矩陣, 或很像矩陣的陣列都是「先列後行」就可以!\n",
        "\n",
        "我們先弄個 array 來練習。"
      ]
    },
    {
      "cell_type": "code",
      "execution_count": 11,
      "metadata": {
        "id": "DImrVpSFVFT7",
        "outputId": "0617d1a7-27e2-4550-87ce-3ba5fcf7085d",
        "colab": {
          "base_uri": "https://localhost:8080/"
        }
      },
      "outputs": [
        {
          "output_type": "execute_result",
          "data": {
            "text/plain": [
              "array([[0, 1, 2, 3, 4],\n",
              "       [5, 6, 7, 8, 9]])"
            ]
          },
          "metadata": {},
          "execution_count": 11
        }
      ],
      "source": [
        "A = np.arange(10).reshape(2,5)\n",
        "A"
      ]
    },
    {
      "cell_type": "markdown",
      "metadata": {
        "id": "NnBuAHUnVFT7"
      },
      "source": [
        "### 【重點】 一列一列算下來是 `axis=0`"
      ]
    },
    {
      "cell_type": "markdown",
      "metadata": {
        "id": "gvkZionrVFT7"
      },
      "source": [
        "![axis=0](https://github.com/nelsonchchang/IMLP/blob/main/Unit02/images/axis0.png?raw=1)"
      ]
    },
    {
      "cell_type": "code",
      "execution_count": 13,
      "metadata": {
        "id": "U4VGqgKjVFT7",
        "outputId": "427f5f1e-1021-425b-c4f0-5a896c644117",
        "colab": {
          "base_uri": "https://localhost:8080/"
        }
      },
      "outputs": [
        {
          "output_type": "execute_result",
          "data": {
            "text/plain": [
              "array([ 5,  7,  9, 11, 13])"
            ]
          },
          "metadata": {},
          "execution_count": 13
        }
      ],
      "source": [
        "A.sum(axis=0)"
      ]
    },
    {
      "cell_type": "markdown",
      "metadata": {
        "id": "aDNNYsfPVFT7"
      },
      "source": [
        "### 【重點】 一行一行算過去是 `axis=1`\n",
        "\n",
        "![axis=1](https://github.com/nelsonchchang/IMLP/blob/main/Unit02/images/axis1.png?raw=1)"
      ]
    },
    {
      "cell_type": "code",
      "execution_count": 14,
      "metadata": {
        "id": "RXHmyitxVFT7",
        "outputId": "0601990c-093c-4aa2-d8c1-32405e803223",
        "colab": {
          "base_uri": "https://localhost:8080/"
        }
      },
      "outputs": [
        {
          "output_type": "execute_result",
          "data": {
            "text/plain": [
              "array([10, 35])"
            ]
          },
          "metadata": {},
          "execution_count": 14
        }
      ],
      "source": [
        "A.sum(axis=1)"
      ]
    },
    {
      "cell_type": "markdown",
      "metadata": {
        "id": "bnpqthBpVFT7"
      },
      "source": [
        "### 【提示】當然也有可能全部算"
      ]
    },
    {
      "cell_type": "code",
      "execution_count": 15,
      "metadata": {
        "id": "LoWHAF4NVFT7",
        "outputId": "85407b77-6239-4b86-d99a-dc319cce4b40",
        "colab": {
          "base_uri": "https://localhost:8080/"
        }
      },
      "outputs": [
        {
          "output_type": "execute_result",
          "data": {
            "text/plain": [
              "45"
            ]
          },
          "metadata": {},
          "execution_count": 15
        }
      ],
      "source": [
        "A.sum()"
      ]
    },
    {
      "cell_type": "markdown",
      "metadata": {
        "id": "Uql-0F39VFT8"
      },
      "source": [
        "## 6. array 過濾器\n",
        "\n",
        "篩出我們要的資料, 這樣的技巧非常重要!"
      ]
    },
    {
      "cell_type": "markdown",
      "metadata": {
        "id": "-i-c78ckVFT8"
      },
      "source": [
        "### 【例子】篩出大於 0 的數\n",
        "\n",
        "我們有個陣列, 想找出大於 0 的數。<br>\n",
        "L = np.array([3, -2, -1, 5, 7, -3])"
      ]
    },
    {
      "cell_type": "code",
      "execution_count": 16,
      "metadata": {
        "id": "Z8shdiZ6VFT8"
      },
      "outputs": [],
      "source": [
        "L = np.array([3, -2, -1, 5, 7, -3])"
      ]
    },
    {
      "cell_type": "markdown",
      "metadata": {
        "id": "ZQ27y1RkVFT8"
      },
      "source": [
        "我們可以很白痴的自己判斷...<br>\n",
        "c = np.array([True,False,False,True,True,False])"
      ]
    },
    {
      "cell_type": "code",
      "execution_count": 17,
      "metadata": {
        "id": "rkeRn9_nVFT8"
      },
      "outputs": [],
      "source": [
        "c = np.array([True,False,False,True,True,False])"
      ]
    },
    {
      "cell_type": "markdown",
      "metadata": {
        "id": "2JlHHRVjVFT8"
      },
      "source": [
        "這是做啥呢? 我們可以瞬間..."
      ]
    },
    {
      "cell_type": "code",
      "execution_count": 18,
      "metadata": {
        "id": "82onWcapVFT9",
        "outputId": "4d735ee4-b708-4169-e821-6a5188d0fa62",
        "colab": {
          "base_uri": "https://localhost:8080/"
        }
      },
      "outputs": [
        {
          "output_type": "execute_result",
          "data": {
            "text/plain": [
              "array([3, 5, 7])"
            ]
          },
          "metadata": {},
          "execution_count": 18
        }
      ],
      "source": [
        "L[c]"
      ]
    },
    {
      "cell_type": "markdown",
      "metadata": {
        "id": "vngrXLJqVFT9"
      },
      "source": [
        "除了自己做很白痴, 這看來很厲害!"
      ]
    },
    {
      "cell_type": "markdown",
      "metadata": {
        "id": "2OmrPRqUVFT9"
      },
      "source": [
        "事實上我們可以叫 `numpy` 做!"
      ]
    },
    {
      "cell_type": "code",
      "execution_count": 20,
      "metadata": {
        "id": "WrqEFGBeVFT9",
        "outputId": "c9137ac3-cc2b-4b6b-9189-33a3830e5400",
        "colab": {
          "base_uri": "https://localhost:8080/"
        }
      },
      "outputs": [
        {
          "output_type": "execute_result",
          "data": {
            "text/plain": [
              "array([ True, False, False,  True,  True, False])"
            ]
          },
          "metadata": {},
          "execution_count": 20
        }
      ],
      "source": [
        "L>0"
      ]
    },
    {
      "cell_type": "markdown",
      "metadata": {
        "id": "5Jy0icaNVFT9"
      },
      "source": [
        "這有點強, 我們還可以一次到位!"
      ]
    },
    {
      "cell_type": "code",
      "execution_count": 21,
      "metadata": {
        "scrolled": true,
        "id": "5RoyA3XmVFT9",
        "outputId": "1211bd00-ff67-47d3-9c7c-67e67c4ade32",
        "colab": {
          "base_uri": "https://localhost:8080/"
        }
      },
      "outputs": [
        {
          "output_type": "execute_result",
          "data": {
            "text/plain": [
              "array([3, 5, 7])"
            ]
          },
          "metadata": {},
          "execution_count": 21
        }
      ],
      "source": [
        "L[L>0]"
      ]
    },
    {
      "cell_type": "markdown",
      "metadata": {
        "id": "ksWZzbUeVFT9"
      },
      "source": [
        "## 7. 次元切割刀\n",
        "\n",
        "`numpy` 中 array 的切割法和 list 很像。"
      ]
    },
    {
      "cell_type": "code",
      "execution_count": 22,
      "metadata": {
        "id": "IdndcZnaVFT9",
        "outputId": "e70f9eaa-7e9f-4c6c-bbdd-c5d27316c484",
        "colab": {
          "base_uri": "https://localhost:8080/"
        }
      },
      "outputs": [
        {
          "output_type": "execute_result",
          "data": {
            "text/plain": [
              "array([0, 1, 2, 3, 4, 5, 6, 7, 8, 9])"
            ]
          },
          "metadata": {},
          "execution_count": 22
        }
      ],
      "source": [
        "x = np.arange(10)\n",
        "x"
      ]
    },
    {
      "cell_type": "code",
      "execution_count": 23,
      "metadata": {
        "id": "4FfX2YBmVFT9",
        "outputId": "692709d8-2711-429c-a248-6afd2080c0fc",
        "colab": {
          "base_uri": "https://localhost:8080/"
        }
      },
      "outputs": [
        {
          "output_type": "execute_result",
          "data": {
            "text/plain": [
              "array([3, 4, 5, 6])"
            ]
          },
          "metadata": {},
          "execution_count": 23
        }
      ],
      "source": [
        "x[3:7]"
      ]
    },
    {
      "cell_type": "markdown",
      "metadata": {
        "id": "0JxA-BeuVFT9"
      },
      "source": [
        "### 【技巧】2維陣列切法\n",
        "\n",
        "記得先列後行!"
      ]
    },
    {
      "cell_type": "code",
      "execution_count": 26,
      "metadata": {
        "id": "SU2rlNRzVFT-",
        "outputId": "fbdbb3c9-0a0c-4aef-a0b7-294316f138bb",
        "colab": {
          "base_uri": "https://localhost:8080/"
        }
      },
      "outputs": [
        {
          "output_type": "execute_result",
          "data": {
            "text/plain": [
              "array([[0, 1, 2, 3, 4],\n",
              "       [5, 6, 7, 8, 9]])"
            ]
          },
          "metadata": {},
          "execution_count": 26
        }
      ],
      "source": [
        "x.shape=(2,5)\n",
        "x"
      ]
    },
    {
      "cell_type": "markdown",
      "metadata": {
        "id": "U8QRc9NzVFT-"
      },
      "source": [
        "要所有的row, 切出行 1-3 位置。"
      ]
    },
    {
      "cell_type": "code",
      "execution_count": 28,
      "metadata": {
        "id": "ro08W_3UVFT-",
        "outputId": "50a375c2-f509-460e-9438-4a1ecd37dfea",
        "colab": {
          "base_uri": "https://localhost:8080/"
        }
      },
      "outputs": [
        {
          "output_type": "execute_result",
          "data": {
            "text/plain": [
              "array([[1, 2],\n",
              "       [6, 7]])"
            ]
          },
          "metadata": {},
          "execution_count": 28
        }
      ],
      "source": [
        "x[:, 1:3]"
      ]
    },
    {
      "cell_type": "markdown",
      "metadata": {
        "id": "kNef1T7EVFT-"
      },
      "source": [
        "要所有的行col, 切出第 1 列row!"
      ]
    },
    {
      "cell_type": "code",
      "execution_count": 30,
      "metadata": {
        "id": "coAALOnKVFT-",
        "outputId": "4b32004b-4062-4fb0-d3e6-656e82585761",
        "colab": {
          "base_uri": "https://localhost:8080/"
        }
      },
      "outputs": [
        {
          "output_type": "execute_result",
          "data": {
            "text/plain": [
              "array([5, 6, 7, 8, 9])"
            ]
          },
          "metadata": {},
          "execution_count": 30
        }
      ],
      "source": [
        "x[1,:]"
      ]
    },
    {
      "cell_type": "markdown",
      "metadata": {
        "id": "X5FziplsVFT-"
      },
      "source": [
        "## 8. `NumPy` 的 `zip` 和 `unzip`"
      ]
    },
    {
      "cell_type": "markdown",
      "metadata": {
        "id": "QfOTZjzcVFT-"
      },
      "source": [
        "之前我們介紹 list 可以用 `zip` 和 `unzip` (其實還是 `zip`) 做到的資料格式變換, 在 array 中怎麼做呢?\n",
        "\n",
        "![zip and unzip](https://github.com/nelsonchchang/IMLP/blob/main/Unit02/images/zip.png?raw=1)"
      ]
    },
    {
      "cell_type": "markdown",
      "metadata": {
        "id": "yHlp-Wv1VFT-"
      },
      "source": [
        "### 【重點】array 的 `zip`\n",
        "\n",
        "![array zip](https://github.com/nelsonchchang/IMLP/blob/main/Unit02/images/arrzip.png?raw=1)"
      ]
    },
    {
      "cell_type": "code",
      "execution_count": 32,
      "metadata": {
        "id": "OcfEE3YVVFT_"
      },
      "outputs": [],
      "source": [
        "x = np.array([1,2,3,4])\n",
        "y = np.array([5,6,7,8])"
      ]
    },
    {
      "cell_type": "code",
      "execution_count": 34,
      "metadata": {
        "id": "7M8SfSC9VFT_",
        "outputId": "da739ec6-ed71-43d2-ebdb-48b54e90f771",
        "colab": {
          "base_uri": "https://localhost:8080/"
        }
      },
      "outputs": [
        {
          "output_type": "execute_result",
          "data": {
            "text/plain": [
              "array([[1, 5],\n",
              "       [2, 6],\n",
              "       [3, 7],\n",
              "       [4, 8]])"
            ]
          },
          "metadata": {},
          "execution_count": 34
        }
      ],
      "source": [
        "X = np.c_[x,y]\n",
        "X"
      ]
    },
    {
      "cell_type": "code",
      "execution_count": 35,
      "metadata": {
        "id": "-5JLnbIGVFT_",
        "outputId": "7ea9e1a8-766c-4143-e017-8c4e8f6c292e",
        "colab": {
          "base_uri": "https://localhost:8080/"
        }
      },
      "outputs": [
        {
          "output_type": "execute_result",
          "data": {
            "text/plain": [
              "array([1, 2, 3, 4, 5, 6, 7, 8])"
            ]
          },
          "metadata": {},
          "execution_count": 35
        }
      ],
      "source": [
        "Y = np.r_[x,y]\n",
        "Y"
      ]
    },
    {
      "cell_type": "markdown",
      "metadata": {
        "id": "vxp23lRSVFT_"
      },
      "source": [
        "### 【重點】array 的 `unzip`\n",
        "\n",
        "這裡其實只需要用到 array 的切割法...\n",
        "\n",
        "![array zip](https://github.com/nelsonchchang/IMLP/blob/main/Unit02/images/arrunzip.png?raw=1)"
      ]
    },
    {
      "cell_type": "code",
      "execution_count": 36,
      "metadata": {
        "collapsed": true,
        "id": "o9IA4pKWVFT_",
        "outputId": "83a9f8de-ca9c-4771-9c34-7b17a26a7d8b",
        "colab": {
          "base_uri": "https://localhost:8080/"
        }
      },
      "outputs": [
        {
          "output_type": "execute_result",
          "data": {
            "text/plain": [
              "array([1, 2, 3, 4])"
            ]
          },
          "metadata": {},
          "execution_count": 36
        }
      ],
      "source": [
        "X[:,0]"
      ]
    },
    {
      "cell_type": "code",
      "source": [
        "X[:,1]"
      ],
      "metadata": {
        "id": "T3isGOn0I73s",
        "outputId": "972fbe1b-692c-4a2e-99e7-c276a4766c06",
        "colab": {
          "base_uri": "https://localhost:8080/"
        }
      },
      "execution_count": 37,
      "outputs": [
        {
          "output_type": "execute_result",
          "data": {
            "text/plain": [
              "array([5, 6, 7, 8])"
            ]
          },
          "metadata": {},
          "execution_count": 37
        }
      ]
    }
  ],
  "metadata": {
    "kernelspec": {
      "display_name": "Python 3 (ipykernel)",
      "language": "python",
      "name": "python3"
    },
    "language_info": {
      "codemirror_mode": {
        "name": "ipython",
        "version": 3
      },
      "file_extension": ".py",
      "mimetype": "text/x-python",
      "name": "python",
      "nbconvert_exporter": "python",
      "pygments_lexer": "ipython3",
      "version": "3.10.9"
    },
    "colab": {
      "provenance": [],
      "include_colab_link": true
    }
  },
  "nbformat": 4,
  "nbformat_minor": 0
}