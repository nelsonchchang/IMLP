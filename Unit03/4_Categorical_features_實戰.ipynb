{
  "cells": [
    {
      "cell_type": "markdown",
      "metadata": {
        "id": "view-in-github",
        "colab_type": "text"
      },
      "source": [
        "<a href=\"https://colab.research.google.com/github/nelsonchchang/IMLP/blob/main/Unit03/4_Categorical_features_%E5%AF%A6%E6%88%B0.ipynb\" target=\"_parent\"><img src=\"https://colab.research.google.com/assets/colab-badge.svg\" alt=\"Open In Colab\"/></a>"
      ]
    },
    {
      "cell_type": "markdown",
      "metadata": {
        "id": "3ik5DM1oa3WD"
      },
      "source": [
        "# 資料前處理(Label encoding、 One hot encoding)\n",
        "這兩個編碼方式的目的是為了將類別 (categorical)或是文字(text)的資料轉換成數字，而讓程式能夠更好的去理解及運算。\n",
        "> Label encoding : 把每個類別 mapping 到某個整數，不會增加新欄位\n",
        "\n",
        "> One hot encoding : 為每個類別新增一個欄位，用 0/1 表示是否\n",
        "\n",
        "![](https://github.com/nelsonchchang/IMLP/blob/main/Unit03/images/Encoder.PNG?raw=1)\n",
        "\n",
        "\n",
        "## Encoding Categorical features (or label)\n",
        "![](https://github.com/nelsonchchang/IMLP/blob/main/Unit03/images/Encoding.PNG?raw=1)\n"
      ]
    },
    {
      "cell_type": "code",
      "execution_count": null,
      "metadata": {
        "id": "CITapB7_a3WD"
      },
      "outputs": [],
      "source": [
        "import pandas as pd\n",
        "import numpy as np\n"
      ]
    },
    {
      "cell_type": "code",
      "execution_count": null,
      "metadata": {
        "id": "sVNEF0Bwa3WE"
      },
      "outputs": [],
      "source": [
        "df = pd.DataFrame({'blood':['A','B','AB','O','B'],\n",
        "                   'Y':['high','low','high','mid','mid'],\n",
        "                   'Z':[np.nan,np.nan,-1196,72,83]});\n",
        "df"
      ]
    },
    {
      "cell_type": "markdown",
      "metadata": {
        "id": "lIua2h9Aa3WE"
      },
      "source": [
        "# 方法一：sklearn - label encoder + onehot encoder\n",
        ">onehot encoder要用2D array，若維度所以要用reshape(-1,1)<br>\n",
        ">onehot encoder要數字，若資料文文字要先用label encoder轉數字"
      ]
    },
    {
      "cell_type": "code",
      "execution_count": null,
      "metadata": {
        "id": "jrmIeV3ma3WF"
      },
      "outputs": [],
      "source": []
    },
    {
      "cell_type": "code",
      "execution_count": null,
      "metadata": {
        "id": "pz0RPnHta3WF"
      },
      "outputs": [],
      "source": []
    },
    {
      "cell_type": "markdown",
      "metadata": {
        "id": "P0mwXfrxa3WF"
      },
      "source": [
        "## One hot encoding\n",
        "One Hot encoding的編碼邏輯為將類別拆成多個行(column)，每個列中的數值由1、0替代，當某一列的資料存在的該行的類別則顯示1，反則顯示0。\n",
        "\n",
        "然在指定column進行編碼的情形下，One hot encoding<b>無法直接對字串進行編碼，必須先透過Label encoding將字串以數字取代後再進行One hot encoding處理。</b>\n",
        "\n",
        "> categorical_features = [0]: 表示欲在data上執行One hot encoding的index為0\n",
        "\n",
        "> data_le: 為經過Label encoding編碼的資料(註:OneHotEncoder的輸入要為2-D array，而Label encoding為1-D array)\n"
      ]
    },
    {
      "cell_type": "markdown",
      "metadata": {
        "id": "J8kOTW5Za3WF"
      },
      "source": [
        "OneHotEncoder會轉出scipy.csr_matrix資料結構用.toarray()轉array\n",
        "從結果可以知道，數字0的column 代表的是A、數字1的column 代表的是B，而數字2的column 代表的是AB。\n",
        "除了轉換字串外，One hot encoding也可以轉換數字。在此處的data就不需要先經過Label encoding編碼\n",
        "\n",
        "```python\n",
        "# importing one hot encoder from sklearn\n",
        "# There are changes in OneHotEncoder class\n",
        "from sklearn.preprocessing import OneHotEncoder\n",
        "from sklearn.compose import ColumnTransformer\n",
        "   \n",
        "# creating one hot encoder object with categorical feature 0\n",
        "# indicating the first column\n",
        "columnTransformer = ColumnTransformer([('encoder',\n",
        "                                        OneHotEncoder(),\n",
        "                                        [0])],\n",
        "                                      remainder='passthrough')\n",
        "  \n",
        "data = np.array(columnTransformer.fit_transform(data), dtype = str)\n",
        "```"
      ]
    },
    {
      "cell_type": "code",
      "execution_count": null,
      "metadata": {
        "id": "xHIGKpzba3WF"
      },
      "outputs": [],
      "source": [
        "# importing one hot encoder from sklearn\n",
        "# There are changes in OneHotEncoder class\n",
        "from sklearn.preprocessing import OneHotEncoder\n",
        "from sklearn.compose import ColumnTransformer\n",
        "\n",
        "# creating one hot encoder object with categorical feature 0\n",
        "# indicating the first column\n",
        "columnTransformer = ColumnTransformer([('encoder',\n",
        "                                        OneHotEncoder(),\n",
        "                                        [0])],\n",
        "                                      remainder='passthrough')\n"
      ]
    },
    {
      "cell_type": "markdown",
      "metadata": {
        "id": "Q6J92exoa3WG"
      },
      "source": [
        "# 方法二：Keras - label encoder + to_categorical\n",
        ">to_categorical要數字，若資料文文字要先用label encoder轉數字"
      ]
    },
    {
      "cell_type": "code",
      "execution_count": null,
      "metadata": {
        "id": "I9O9Nehza3WG"
      },
      "outputs": [],
      "source": [
        "from sklearn.preprocessing import LabelEncoder\n",
        "from keras.utils import np_utils\n",
        "\n",
        "df = pd.DataFrame({'blood':['A','B','AB','O','B'],\n",
        "                   'Y':['high','low','high','mid','mid'],\n",
        "                   'Z':[np.nan,np.nan,-1196,72,83]});\n",
        "\n",
        "# label encoder\n",
        "\n",
        "\n",
        "# convert integers to one hot encoding\n",
        "\n",
        "\n"
      ]
    },
    {
      "cell_type": "markdown",
      "metadata": {
        "id": "xjO22Heva3WG"
      },
      "source": [
        "## 方法三：pd.get_dummies方法\n",
        "![](https://github.com/nelsonchchang/IMLP/blob/main/Unit03/images/Encoding_pd.PNG?raw=1)\n",
        "pd.get_dummies(df)\n",
        ">get_dummies可以直接轉字串，反而無法轉換數字<br>\n",
        ">get_dummies沒指定columns，會全部轉換"
      ]
    },
    {
      "cell_type": "code",
      "execution_count": null,
      "metadata": {
        "id": "zMHKAGe6a3WG"
      },
      "outputs": [],
      "source": [
        "df = pd.DataFrame({'blood':['A','B','AB','O','B'],\n",
        "                   'Y':['high','low','high','mid','mid'],\n",
        "                   'Z':[np.nan,np.nan,-1196,72,83]})"
      ]
    },
    {
      "cell_type": "markdown",
      "metadata": {
        "id": "3RWcbu67a3WG"
      },
      "source": [
        "## 練習一：sklearn - label encoder + onehot encoder\n",
        "下面的資料可以看到country那欄皆為字串， 大部分的模型都是基於數學運算，字串無法套入數學模型進行運算，<br>\n",
        "在此先對其進行Label encoding編碼，我們從 sklearn library中導入 LabelEncoder class，對第一行資料進行fit及transform並取代之。"
      ]
    },
    {
      "cell_type": "code",
      "execution_count": null,
      "metadata": {
        "id": "06Yw-Ppea3WH"
      },
      "outputs": [],
      "source": [
        "import numpy as np\n",
        "import pandas as pd\n",
        "country=['Taiwan','Australia','Ireland','Australia','Ireland','Taiwan']\n",
        "age=[25,30,45,35,22,36]\n",
        "salary=[20000,32000,59000,60000,43000,52000]\n",
        "dic={'Country':country,'Age':age,'Salary':salary}\n",
        "data=pd.DataFrame(dic)\n",
        "data"
      ]
    },
    {
      "cell_type": "markdown",
      "metadata": {
        "id": "8KgT4mnsa3WH"
      },
      "source": [
        "## 練習二：Keras - label encoder + to_categorical"
      ]
    },
    {
      "cell_type": "code",
      "execution_count": null,
      "metadata": {
        "id": "he-pFib7a3WH"
      },
      "outputs": [],
      "source": [
        "from sklearn.preprocessing import LabelEncoder\n",
        "from keras.utils import np_utils\n",
        "\n",
        "country=['Taiwan','Australia','Ireland','Australia','Ireland','Taiwan']\n",
        "age=[25,30,45,35,22,36]\n",
        "salary=[20000,32000,59000,60000,43000,52000]\n",
        "dic={'Country':country,'Age':age,'Salary':salary}\n",
        "data=pd.DataFrame(dic)\n",
        "data"
      ]
    },
    {
      "cell_type": "markdown",
      "metadata": {
        "id": "4vnJGdEVa3WH"
      },
      "source": [
        "## 練習三：Pandas.get_dummies\n",
        ">　get_dummies : 僅能將字串轉換為One hot encoding表示形式， 沒指定columns會全部轉換。"
      ]
    },
    {
      "cell_type": "code",
      "execution_count": null,
      "metadata": {
        "id": "z-Q-ltxna3WH"
      },
      "outputs": [],
      "source": [
        "country=['Taiwan','Australia','Ireland','Australia','Ireland','Taiwan']\n",
        "age=[25,30,45,35,22,36]\n",
        "salary=[20000,32000,59000,60000,43000,52000]\n",
        "dic={'Country':country,'Age':age,'Salary':salary}\n",
        "data=pd.DataFrame(dic)\n",
        "data"
      ]
    }
  ],
  "metadata": {
    "kernelspec": {
      "display_name": "Python 3",
      "language": "python",
      "name": "python3"
    },
    "language_info": {
      "codemirror_mode": {
        "name": "ipython",
        "version": 3
      },
      "file_extension": ".py",
      "mimetype": "text/x-python",
      "name": "python",
      "nbconvert_exporter": "python",
      "pygments_lexer": "ipython3",
      "version": "3.8.8"
    },
    "colab": {
      "provenance": [],
      "include_colab_link": true
    }
  },
  "nbformat": 4,
  "nbformat_minor": 0
}